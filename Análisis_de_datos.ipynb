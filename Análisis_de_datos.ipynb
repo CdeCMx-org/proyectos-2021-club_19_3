{
  "nbformat": 4,
  "nbformat_minor": 0,
  "metadata": {
    "colab": {
      "name": "Análisis de datos",
      "provenance": [],
      "include_colab_link": true
    },
    "kernelspec": {
      "name": "python3",
      "display_name": "Python 3"
    },
    "language_info": {
      "name": "python"
    }
  },
  "cells": [
    {
      "cell_type": "markdown",
      "metadata": {
        "id": "view-in-github",
        "colab_type": "text"
      },
      "source": [
        "<a href=\"https://colab.research.google.com/github/CdeCMx-org/proyectos-2021-club_19_3/blob/main/An%C3%A1lisis_de_datos.ipynb\" target=\"_parent\"><img src=\"https://colab.research.google.com/assets/colab-badge.svg\" alt=\"Open In Colab\"/></a>"
      ]
    },
    {
      "cell_type": "markdown",
      "metadata": {
        "id": "QN8Sg07TXVsB"
      },
      "source": [
        "#**Análisis de datos de la encuesta sobre consumo de pescado**"
      ]
    },
    {
      "cell_type": "markdown",
      "metadata": {
        "id": "bxzaWhFFv5FJ"
      },
      "source": [
        "*Para comenzar es necesario aclarar que hicimos una limpieza de los datos en excel, ya que habían 3 personas cuyo grupo de edad era muy alto (50-60 años) por lo tanto, esto afectaría el promedio de nuestra edad. Nos enfocamos en un grupo de personas jóvenes. Los datos fueron depurados el día 19 de agosto de 2021 a las 5 de la tarde, se subieron a Github a las 7 pm aprox.*\n",
        "\n",
        "*Nota: En cuanto a deficiones usadas:*\n",
        "\n",
        "*Consumidor frecuente o habitual es aquel que come pescado al menos 1 vez al mes o más. Personas que consumen \"casi nunca\" o no lo hacen no son tomados en cuenta para ciertas estadísticas.*"
      ]
    },
    {
      "cell_type": "code",
      "metadata": {
        "id": "Ea__5i8BXTY2"
      },
      "source": [
        "#Llamado de pandas y numpy\n",
        "import pandas as pnd\n",
        "import numpy as nmp\n"
      ],
      "execution_count": null,
      "outputs": []
    },
    {
      "cell_type": "code",
      "metadata": {
        "id": "avckrN0Mn43z"
      },
      "source": [
        "url=\"https://raw.githubusercontent.com/CdeCMx-org/proyectos-2021-club_19_3/main/data/EncuestaRespuestas.csv\"\n",
        "dfr=pnd.read_csv(url)\n",
        "#Hasta este punto ya se guardaron las respuestas en Python"
      ],
      "execution_count": null,
      "outputs": []
    },
    {
      "cell_type": "code",
      "metadata": {
        "colab": {
          "base_uri": "https://localhost:8080/",
          "height": 419
        },
        "id": "hQIlQd_1nZYG",
        "outputId": "2566e278-e3e3-4beb-aa37-0afd6f0c863f"
      },
      "source": [
        "dfr"
      ],
      "execution_count": null,
      "outputs": [
        {
          "output_type": "execute_result",
          "data": {
            "text/html": [
              "<div>\n",
              "<style scoped>\n",
              "    .dataframe tbody tr th:only-of-type {\n",
              "        vertical-align: middle;\n",
              "    }\n",
              "\n",
              "    .dataframe tbody tr th {\n",
              "        vertical-align: top;\n",
              "    }\n",
              "\n",
              "    .dataframe thead th {\n",
              "        text-align: right;\n",
              "    }\n",
              "</style>\n",
              "<table border=\"1\" class=\"dataframe\">\n",
              "  <thead>\n",
              "    <tr style=\"text-align: right;\">\n",
              "      <th></th>\n",
              "      <th>Edad</th>\n",
              "      <th>Frecsem</th>\n",
              "      <th>Presentacion</th>\n",
              "      <th>conocebeneficios</th>\n",
              "      <th>conoceprocedencia</th>\n",
              "    </tr>\n",
              "  </thead>\n",
              "  <tbody>\n",
              "    <tr>\n",
              "      <th>0</th>\n",
              "      <td>18</td>\n",
              "      <td>1</td>\n",
              "      <td>Pescado fresco, Pescado congelado</td>\n",
              "      <td>si</td>\n",
              "      <td>No</td>\n",
              "    </tr>\n",
              "    <tr>\n",
              "      <th>1</th>\n",
              "      <td>20</td>\n",
              "      <td>4</td>\n",
              "      <td>En conserva (latas, salmuera, tipo surimi)</td>\n",
              "      <td>si</td>\n",
              "      <td>No</td>\n",
              "    </tr>\n",
              "    <tr>\n",
              "      <th>2</th>\n",
              "      <td>19</td>\n",
              "      <td>0</td>\n",
              "      <td>Pescado congelado</td>\n",
              "      <td>si</td>\n",
              "      <td>No</td>\n",
              "    </tr>\n",
              "    <tr>\n",
              "      <th>3</th>\n",
              "      <td>22</td>\n",
              "      <td>0</td>\n",
              "      <td>Pescado congelado</td>\n",
              "      <td>No</td>\n",
              "      <td>No</td>\n",
              "    </tr>\n",
              "    <tr>\n",
              "      <th>4</th>\n",
              "      <td>17</td>\n",
              "      <td>0</td>\n",
              "      <td>Pescado fresco, En conserva (latas, salmuera, ...</td>\n",
              "      <td>No pero quisiera saber</td>\n",
              "      <td>No</td>\n",
              "    </tr>\n",
              "    <tr>\n",
              "      <th>...</th>\n",
              "      <td>...</td>\n",
              "      <td>...</td>\n",
              "      <td>...</td>\n",
              "      <td>...</td>\n",
              "      <td>...</td>\n",
              "    </tr>\n",
              "    <tr>\n",
              "      <th>108</th>\n",
              "      <td>20</td>\n",
              "      <td>4</td>\n",
              "      <td>Pescado fresco</td>\n",
              "      <td>si</td>\n",
              "      <td>si</td>\n",
              "    </tr>\n",
              "    <tr>\n",
              "      <th>109</th>\n",
              "      <td>20</td>\n",
              "      <td>1</td>\n",
              "      <td>Pescado fresco, En conserva (latas, salmuera, ...</td>\n",
              "      <td>si</td>\n",
              "      <td>No</td>\n",
              "    </tr>\n",
              "    <tr>\n",
              "      <th>110</th>\n",
              "      <td>20</td>\n",
              "      <td>0</td>\n",
              "      <td>Pescado fresco</td>\n",
              "      <td>No pero quisiera saber</td>\n",
              "      <td>si</td>\n",
              "    </tr>\n",
              "    <tr>\n",
              "      <th>111</th>\n",
              "      <td>19</td>\n",
              "      <td>2</td>\n",
              "      <td>En conserva (latas, salmuera, tipo surimi)</td>\n",
              "      <td>si</td>\n",
              "      <td>si</td>\n",
              "    </tr>\n",
              "    <tr>\n",
              "      <th>112</th>\n",
              "      <td>24</td>\n",
              "      <td>1</td>\n",
              "      <td>Pescado fresco</td>\n",
              "      <td>si</td>\n",
              "      <td>No</td>\n",
              "    </tr>\n",
              "  </tbody>\n",
              "</table>\n",
              "<p>113 rows × 5 columns</p>\n",
              "</div>"
            ],
            "text/plain": [
              "     Edad  Frecsem  ...        conocebeneficios conoceprocedencia\n",
              "0      18        1  ...                      si                No\n",
              "1      20        4  ...                      si                No\n",
              "2      19        0  ...                      si                No\n",
              "3      22        0  ...                      No                No\n",
              "4      17        0  ...  No pero quisiera saber                No\n",
              "..    ...      ...  ...                     ...               ...\n",
              "108    20        4  ...                      si                si\n",
              "109    20        1  ...                      si                No\n",
              "110    20        0  ...  No pero quisiera saber                si\n",
              "111    19        2  ...                      si                si\n",
              "112    24        1  ...                      si                No\n",
              "\n",
              "[113 rows x 5 columns]"
            ]
          },
          "metadata": {},
          "execution_count": 15
        }
      ]
    },
    {
      "cell_type": "markdown",
      "metadata": {
        "id": "L-myGV0qEta5"
      },
      "source": [
        "#Edad\n",
        "Analizar el grupo de edad es importante ya que con estos datos se obtendrán\n",
        "- rango de la encuesta\n",
        "- promedio de edad del grupo"
      ]
    },
    {
      "cell_type": "code",
      "metadata": {
        "colab": {
          "base_uri": "https://localhost:8080/"
        },
        "id": "oFsjAFFunetE",
        "outputId": "4f351e79-9d31-40dd-a607-3eb2c7ae5703"
      },
      "source": [
        "#Promedio de edad del grupo analizado\n",
        "dfr.Edad.mean()"
      ],
      "execution_count": null,
      "outputs": [
        {
          "output_type": "execute_result",
          "data": {
            "text/plain": [
              "21.61061946902655"
            ]
          },
          "metadata": {},
          "execution_count": 16
        }
      ]
    },
    {
      "cell_type": "code",
      "metadata": {
        "colab": {
          "base_uri": "https://localhost:8080/"
        },
        "id": "HHXNNDcvsZjV",
        "outputId": "fea500d5-70c0-46fc-cb99-84808f2bedcc"
      },
      "source": [
        "#Edad más grande en el grupo de datos\n",
        "dfr.Edad.max()"
      ],
      "execution_count": null,
      "outputs": [
        {
          "output_type": "execute_result",
          "data": {
            "text/plain": [
              "43"
            ]
          },
          "metadata": {},
          "execution_count": 17
        }
      ]
    },
    {
      "cell_type": "code",
      "metadata": {
        "id": "NQ9ssVJdszBi",
        "colab": {
          "base_uri": "https://localhost:8080/"
        },
        "outputId": "5d249f70-72f1-482f-b960-c2747ce10d84"
      },
      "source": [
        "#Edad más pequeña en el grupo de datos\n",
        "dfr.Edad.min()"
      ],
      "execution_count": null,
      "outputs": [
        {
          "output_type": "execute_result",
          "data": {
            "text/plain": [
              "15"
            ]
          },
          "metadata": {},
          "execution_count": 18
        }
      ]
    },
    {
      "cell_type": "markdown",
      "metadata": {
        "id": "tf0LNAd5CMUG"
      },
      "source": [
        "#Promedio de frecuencia de consumo\n",
        "Aquí es importante aclarar que las respuestas fueron adaptadas para que se pudieran promediar, esto como **consumo base mes**; es decir, las respuestas que tenían \"no consumo\" tienen un número 0, mientras que la de \"1 vez cada 15 días\" se interpretó como 2 veces al mes (\"1 vez al mes\" se dejó como \"1\" y la opción de \"1 vez por semana\" se tradujo a \"4\" veces por mes)."
      ]
    },
    {
      "cell_type": "code",
      "metadata": {
        "colab": {
          "base_uri": "https://localhost:8080/"
        },
        "id": "DpIZ_vu9BF9N",
        "outputId": "3fe7ad2b-aefc-4084-8cf9-05d595389634"
      },
      "source": [
        "#Promedio de consumo por mes\n",
        "dfr.Frecsem.mean()"
      ],
      "execution_count": null,
      "outputs": [
        {
          "output_type": "execute_result",
          "data": {
            "text/plain": [
              "1.8495575221238938"
            ]
          },
          "metadata": {},
          "execution_count": 19
        }
      ]
    },
    {
      "cell_type": "markdown",
      "metadata": {
        "id": "-ecjAE3Kx7QB"
      },
      "source": [
        "#Consumidores analizados\n",
        "Para poder analizar las preferencias de los consumidores habituales en sí, separamos un dataset exclusivo de consumidores."
      ]
    },
    {
      "cell_type": "code",
      "metadata": {
        "colab": {
          "base_uri": "https://localhost:8080/",
          "height": 419
        },
        "id": "Cu8k2Hucx99z",
        "outputId": "b4c2b1b1-a4c3-403e-eeed-63022aa170df"
      },
      "source": [
        "dfr[\"Frecsem\"]!=0\n",
        "dfr_consume=dfr[dfr[\"Frecsem\"]!=0]\n",
        "dfr_consume"
      ],
      "execution_count": null,
      "outputs": [
        {
          "output_type": "execute_result",
          "data": {
            "text/html": [
              "<div>\n",
              "<style scoped>\n",
              "    .dataframe tbody tr th:only-of-type {\n",
              "        vertical-align: middle;\n",
              "    }\n",
              "\n",
              "    .dataframe tbody tr th {\n",
              "        vertical-align: top;\n",
              "    }\n",
              "\n",
              "    .dataframe thead th {\n",
              "        text-align: right;\n",
              "    }\n",
              "</style>\n",
              "<table border=\"1\" class=\"dataframe\">\n",
              "  <thead>\n",
              "    <tr style=\"text-align: right;\">\n",
              "      <th></th>\n",
              "      <th>Edad</th>\n",
              "      <th>Frecsem</th>\n",
              "      <th>Presentacion</th>\n",
              "      <th>conocebeneficios</th>\n",
              "      <th>conoceprocedencia</th>\n",
              "    </tr>\n",
              "  </thead>\n",
              "  <tbody>\n",
              "    <tr>\n",
              "      <th>0</th>\n",
              "      <td>18</td>\n",
              "      <td>1</td>\n",
              "      <td>Pescado fresco, Pescado congelado</td>\n",
              "      <td>si</td>\n",
              "      <td>No</td>\n",
              "    </tr>\n",
              "    <tr>\n",
              "      <th>1</th>\n",
              "      <td>20</td>\n",
              "      <td>4</td>\n",
              "      <td>En conserva (latas, salmuera, tipo surimi)</td>\n",
              "      <td>si</td>\n",
              "      <td>No</td>\n",
              "    </tr>\n",
              "    <tr>\n",
              "      <th>5</th>\n",
              "      <td>26</td>\n",
              "      <td>4</td>\n",
              "      <td>Pescado fresco, Pescado congelado</td>\n",
              "      <td>si</td>\n",
              "      <td>No</td>\n",
              "    </tr>\n",
              "    <tr>\n",
              "      <th>6</th>\n",
              "      <td>24</td>\n",
              "      <td>2</td>\n",
              "      <td>Pescado fresco</td>\n",
              "      <td>si</td>\n",
              "      <td>si</td>\n",
              "    </tr>\n",
              "    <tr>\n",
              "      <th>8</th>\n",
              "      <td>19</td>\n",
              "      <td>1</td>\n",
              "      <td>Pescado fresco</td>\n",
              "      <td>No pero quisiera saber</td>\n",
              "      <td>No</td>\n",
              "    </tr>\n",
              "    <tr>\n",
              "      <th>...</th>\n",
              "      <td>...</td>\n",
              "      <td>...</td>\n",
              "      <td>...</td>\n",
              "      <td>...</td>\n",
              "      <td>...</td>\n",
              "    </tr>\n",
              "    <tr>\n",
              "      <th>107</th>\n",
              "      <td>22</td>\n",
              "      <td>1</td>\n",
              "      <td>Pescado fresco, Pescado congelado</td>\n",
              "      <td>si</td>\n",
              "      <td>No</td>\n",
              "    </tr>\n",
              "    <tr>\n",
              "      <th>108</th>\n",
              "      <td>20</td>\n",
              "      <td>4</td>\n",
              "      <td>Pescado fresco</td>\n",
              "      <td>si</td>\n",
              "      <td>si</td>\n",
              "    </tr>\n",
              "    <tr>\n",
              "      <th>109</th>\n",
              "      <td>20</td>\n",
              "      <td>1</td>\n",
              "      <td>Pescado fresco, En conserva (latas, salmuera, ...</td>\n",
              "      <td>si</td>\n",
              "      <td>No</td>\n",
              "    </tr>\n",
              "    <tr>\n",
              "      <th>111</th>\n",
              "      <td>19</td>\n",
              "      <td>2</td>\n",
              "      <td>En conserva (latas, salmuera, tipo surimi)</td>\n",
              "      <td>si</td>\n",
              "      <td>si</td>\n",
              "    </tr>\n",
              "    <tr>\n",
              "      <th>112</th>\n",
              "      <td>24</td>\n",
              "      <td>1</td>\n",
              "      <td>Pescado fresco</td>\n",
              "      <td>si</td>\n",
              "      <td>No</td>\n",
              "    </tr>\n",
              "  </tbody>\n",
              "</table>\n",
              "<p>86 rows × 5 columns</p>\n",
              "</div>"
            ],
            "text/plain": [
              "     Edad  Frecsem  ...        conocebeneficios conoceprocedencia\n",
              "0      18        1  ...                      si                No\n",
              "1      20        4  ...                      si                No\n",
              "5      26        4  ...                      si                No\n",
              "6      24        2  ...                      si                si\n",
              "8      19        1  ...  No pero quisiera saber                No\n",
              "..    ...      ...  ...                     ...               ...\n",
              "107    22        1  ...                      si                No\n",
              "108    20        4  ...                      si                si\n",
              "109    20        1  ...                      si                No\n",
              "111    19        2  ...                      si                si\n",
              "112    24        1  ...                      si                No\n",
              "\n",
              "[86 rows x 5 columns]"
            ]
          },
          "metadata": {},
          "execution_count": 10
        }
      ]
    },
    {
      "cell_type": "markdown",
      "metadata": {
        "id": "V_navRKvHgCL"
      },
      "source": [
        "#Conocimiento de beneficios del consumo de productos pesqueros\n",
        "Con la definición de la variable dfr.conocebeneficios se puede hacer una resta entre las personas totales (113) menos las que sí conocen los beneficios y poder calcular las que no los conocen.\n",
        "Se hace así porque también incluimos la opción de \"no conozco pero me interesa\", la cual será estudiada después. Esta es la primer \"división\" (por llamarlo de alguna manera) de nuestro conjunto de datos.\n",
        "La ventaja es que directamente te dice las dimensiones de la nueva lista, entonces no hace falta programar un contador (￣y▽,￣)╭ "
      ]
    },
    {
      "cell_type": "code",
      "metadata": {
        "colab": {
          "base_uri": "https://localhost:8080/"
        },
        "id": "KBF4LfjoFTu3",
        "outputId": "92047bc3-9dfb-4a67-d62d-839f4511f7c5"
      },
      "source": [
        "dfr.conocebeneficios"
      ],
      "execution_count": null,
      "outputs": [
        {
          "output_type": "execute_result",
          "data": {
            "text/plain": [
              "0                          si\n",
              "1                          si\n",
              "2                          si\n",
              "3                          No\n",
              "4      No pero quisiera saber\n",
              "                ...          \n",
              "108                        si\n",
              "109                        si\n",
              "110    No pero quisiera saber\n",
              "111                        si\n",
              "112                        si\n",
              "Name: conocebeneficios, Length: 113, dtype: object"
            ]
          },
          "metadata": {},
          "execution_count": 20
        }
      ]
    },
    {
      "cell_type": "code",
      "metadata": {
        "colab": {
          "base_uri": "https://localhost:8080/",
          "height": 419
        },
        "id": "0bf2vOkvGVSC",
        "outputId": "38aeb7a4-de83-4dfc-a8a5-f929f48688f5"
      },
      "source": [
        "#Número de personas que sí conoce los beneficios del consumo de productos pesqueros\n",
        "dfr[\"conocebeneficios\"]==\"si\"\n",
        "dfr_siconoce=dfr[dfr[\"conocebeneficios\"]==\"si\"]\n",
        "dfr_siconoce\n",
        "#len(dfr_siconoce) #Lo dejo como comentario ya que hasta el final se puede visualizar el tamaño de la lista, se puede ejecutar si se quiere ahorrar espacio"
      ],
      "execution_count": null,
      "outputs": [
        {
          "output_type": "execute_result",
          "data": {
            "text/html": [
              "<div>\n",
              "<style scoped>\n",
              "    .dataframe tbody tr th:only-of-type {\n",
              "        vertical-align: middle;\n",
              "    }\n",
              "\n",
              "    .dataframe tbody tr th {\n",
              "        vertical-align: top;\n",
              "    }\n",
              "\n",
              "    .dataframe thead th {\n",
              "        text-align: right;\n",
              "    }\n",
              "</style>\n",
              "<table border=\"1\" class=\"dataframe\">\n",
              "  <thead>\n",
              "    <tr style=\"text-align: right;\">\n",
              "      <th></th>\n",
              "      <th>Edad</th>\n",
              "      <th>Frecsem</th>\n",
              "      <th>Presentacion</th>\n",
              "      <th>conocebeneficios</th>\n",
              "      <th>conoceprocedencia</th>\n",
              "    </tr>\n",
              "  </thead>\n",
              "  <tbody>\n",
              "    <tr>\n",
              "      <th>0</th>\n",
              "      <td>18</td>\n",
              "      <td>1</td>\n",
              "      <td>Pescado fresco, Pescado congelado</td>\n",
              "      <td>si</td>\n",
              "      <td>No</td>\n",
              "    </tr>\n",
              "    <tr>\n",
              "      <th>1</th>\n",
              "      <td>20</td>\n",
              "      <td>4</td>\n",
              "      <td>En conserva (latas, salmuera, tipo surimi)</td>\n",
              "      <td>si</td>\n",
              "      <td>No</td>\n",
              "    </tr>\n",
              "    <tr>\n",
              "      <th>2</th>\n",
              "      <td>19</td>\n",
              "      <td>0</td>\n",
              "      <td>Pescado congelado</td>\n",
              "      <td>si</td>\n",
              "      <td>No</td>\n",
              "    </tr>\n",
              "    <tr>\n",
              "      <th>5</th>\n",
              "      <td>26</td>\n",
              "      <td>4</td>\n",
              "      <td>Pescado fresco, Pescado congelado</td>\n",
              "      <td>si</td>\n",
              "      <td>No</td>\n",
              "    </tr>\n",
              "    <tr>\n",
              "      <th>6</th>\n",
              "      <td>24</td>\n",
              "      <td>2</td>\n",
              "      <td>Pescado fresco</td>\n",
              "      <td>si</td>\n",
              "      <td>si</td>\n",
              "    </tr>\n",
              "    <tr>\n",
              "      <th>...</th>\n",
              "      <td>...</td>\n",
              "      <td>...</td>\n",
              "      <td>...</td>\n",
              "      <td>...</td>\n",
              "      <td>...</td>\n",
              "    </tr>\n",
              "    <tr>\n",
              "      <th>107</th>\n",
              "      <td>22</td>\n",
              "      <td>1</td>\n",
              "      <td>Pescado fresco, Pescado congelado</td>\n",
              "      <td>si</td>\n",
              "      <td>No</td>\n",
              "    </tr>\n",
              "    <tr>\n",
              "      <th>108</th>\n",
              "      <td>20</td>\n",
              "      <td>4</td>\n",
              "      <td>Pescado fresco</td>\n",
              "      <td>si</td>\n",
              "      <td>si</td>\n",
              "    </tr>\n",
              "    <tr>\n",
              "      <th>109</th>\n",
              "      <td>20</td>\n",
              "      <td>1</td>\n",
              "      <td>Pescado fresco, En conserva (latas, salmuera, ...</td>\n",
              "      <td>si</td>\n",
              "      <td>No</td>\n",
              "    </tr>\n",
              "    <tr>\n",
              "      <th>111</th>\n",
              "      <td>19</td>\n",
              "      <td>2</td>\n",
              "      <td>En conserva (latas, salmuera, tipo surimi)</td>\n",
              "      <td>si</td>\n",
              "      <td>si</td>\n",
              "    </tr>\n",
              "    <tr>\n",
              "      <th>112</th>\n",
              "      <td>24</td>\n",
              "      <td>1</td>\n",
              "      <td>Pescado fresco</td>\n",
              "      <td>si</td>\n",
              "      <td>No</td>\n",
              "    </tr>\n",
              "  </tbody>\n",
              "</table>\n",
              "<p>79 rows × 5 columns</p>\n",
              "</div>"
            ],
            "text/plain": [
              "     Edad  Frecsem  ... conocebeneficios conoceprocedencia\n",
              "0      18        1  ...               si                No\n",
              "1      20        4  ...               si                No\n",
              "2      19        0  ...               si                No\n",
              "5      26        4  ...               si                No\n",
              "6      24        2  ...               si                si\n",
              "..    ...      ...  ...              ...               ...\n",
              "107    22        1  ...               si                No\n",
              "108    20        4  ...               si                si\n",
              "109    20        1  ...               si                No\n",
              "111    19        2  ...               si                si\n",
              "112    24        1  ...               si                No\n",
              "\n",
              "[79 rows x 5 columns]"
            ]
          },
          "metadata": {},
          "execution_count": 21
        }
      ]
    },
    {
      "cell_type": "code",
      "metadata": {
        "colab": {
          "base_uri": "https://localhost:8080/"
        },
        "id": "IcwpPKY40YCj",
        "outputId": "8e8e91dc-ea62-43d3-976e-4cdca8d30373"
      },
      "source": [
        "#Ahora veamos cuánta gente de los consumidores habituales realmente conoce los beneficios \n",
        "dfr_consume[\"conocebeneficios\"]==\"si\"\n",
        "dfr_consumeysabe=dfr_consume[dfr_consume[\"conocebeneficios\"]==\"si\"]\n",
        "dfr_consumeysabe\n",
        "len(dfr_consumeysabe)"
      ],
      "execution_count": null,
      "outputs": [
        {
          "output_type": "execute_result",
          "data": {
            "text/plain": [
              "63"
            ]
          },
          "metadata": {},
          "execution_count": 34
        }
      ]
    },
    {
      "cell_type": "markdown",
      "metadata": {
        "id": "HZwzOrtDIQ9i"
      },
      "source": [
        "#Conocimiento de la procedencia de los alimentos\n",
        "Debido a que la ODS 12 es sobre consumo responsable, quisimos hacer hincapié en esta parte en donde **los consumidores sí que tenemos poder**. Básicamente se hace el mismo procedimiento que con la parte de \"beneficios\". Aquí también es muy importante analizar si se eligió \"no y no me interesa\" ya que eso puede llegar a ser alarmante dependiendo el tipo de consumo de pescado que ese grupo de personas tenga y la frecuencia con que lo haga."
      ]
    },
    {
      "cell_type": "code",
      "metadata": {
        "colab": {
          "base_uri": "https://localhost:8080/",
          "height": 419
        },
        "id": "-DvymhmhI_Du",
        "outputId": "48af18e2-ee04-4eb7-9246-90a9d551db95"
      },
      "source": [
        "#Número de personas que sí sabe de dónde provienen sus alimentos\n",
        "dfr[\"conoceprocedencia\"]==\"si\"\n",
        "dfr_sisabe=dfr[dfr[\"conoceprocedencia\"]==\"si\"]\n",
        "dfr_sisabe\n",
        "#len(dfr_sisabe) #Lo dejo como comenatrio ya que hasta el final se puede visualizar el tamaño de la lista, se puede ejecutar si se quiere ahorrar espacio"
      ],
      "execution_count": null,
      "outputs": [
        {
          "output_type": "execute_result",
          "data": {
            "text/html": [
              "<div>\n",
              "<style scoped>\n",
              "    .dataframe tbody tr th:only-of-type {\n",
              "        vertical-align: middle;\n",
              "    }\n",
              "\n",
              "    .dataframe tbody tr th {\n",
              "        vertical-align: top;\n",
              "    }\n",
              "\n",
              "    .dataframe thead th {\n",
              "        text-align: right;\n",
              "    }\n",
              "</style>\n",
              "<table border=\"1\" class=\"dataframe\">\n",
              "  <thead>\n",
              "    <tr style=\"text-align: right;\">\n",
              "      <th></th>\n",
              "      <th>Edad</th>\n",
              "      <th>Frecsem</th>\n",
              "      <th>Presentacion</th>\n",
              "      <th>conocebeneficios</th>\n",
              "      <th>conoceprocedencia</th>\n",
              "    </tr>\n",
              "  </thead>\n",
              "  <tbody>\n",
              "    <tr>\n",
              "      <th>6</th>\n",
              "      <td>24</td>\n",
              "      <td>2</td>\n",
              "      <td>Pescado fresco</td>\n",
              "      <td>si</td>\n",
              "      <td>si</td>\n",
              "    </tr>\n",
              "    <tr>\n",
              "      <th>9</th>\n",
              "      <td>21</td>\n",
              "      <td>0</td>\n",
              "      <td>Pescado fresco, Pescado congelado, En conserva...</td>\n",
              "      <td>No pero quisiera saber</td>\n",
              "      <td>si</td>\n",
              "    </tr>\n",
              "    <tr>\n",
              "      <th>10</th>\n",
              "      <td>16</td>\n",
              "      <td>0</td>\n",
              "      <td>En conserva (latas, salmuera, tipo surimi)</td>\n",
              "      <td>si</td>\n",
              "      <td>si</td>\n",
              "    </tr>\n",
              "    <tr>\n",
              "      <th>11</th>\n",
              "      <td>20</td>\n",
              "      <td>4</td>\n",
              "      <td>Pescado fresco</td>\n",
              "      <td>si</td>\n",
              "      <td>si</td>\n",
              "    </tr>\n",
              "    <tr>\n",
              "      <th>12</th>\n",
              "      <td>20</td>\n",
              "      <td>2</td>\n",
              "      <td>Pescado fresco</td>\n",
              "      <td>No pero quisiera saber</td>\n",
              "      <td>si</td>\n",
              "    </tr>\n",
              "    <tr>\n",
              "      <th>...</th>\n",
              "      <td>...</td>\n",
              "      <td>...</td>\n",
              "      <td>...</td>\n",
              "      <td>...</td>\n",
              "      <td>...</td>\n",
              "    </tr>\n",
              "    <tr>\n",
              "      <th>104</th>\n",
              "      <td>21</td>\n",
              "      <td>0</td>\n",
              "      <td>Pescado fresco</td>\n",
              "      <td>si</td>\n",
              "      <td>si</td>\n",
              "    </tr>\n",
              "    <tr>\n",
              "      <th>105</th>\n",
              "      <td>21</td>\n",
              "      <td>1</td>\n",
              "      <td>Pescado fresco</td>\n",
              "      <td>si</td>\n",
              "      <td>si</td>\n",
              "    </tr>\n",
              "    <tr>\n",
              "      <th>108</th>\n",
              "      <td>20</td>\n",
              "      <td>4</td>\n",
              "      <td>Pescado fresco</td>\n",
              "      <td>si</td>\n",
              "      <td>si</td>\n",
              "    </tr>\n",
              "    <tr>\n",
              "      <th>110</th>\n",
              "      <td>20</td>\n",
              "      <td>0</td>\n",
              "      <td>Pescado fresco</td>\n",
              "      <td>No pero quisiera saber</td>\n",
              "      <td>si</td>\n",
              "    </tr>\n",
              "    <tr>\n",
              "      <th>111</th>\n",
              "      <td>19</td>\n",
              "      <td>2</td>\n",
              "      <td>En conserva (latas, salmuera, tipo surimi)</td>\n",
              "      <td>si</td>\n",
              "      <td>si</td>\n",
              "    </tr>\n",
              "  </tbody>\n",
              "</table>\n",
              "<p>61 rows × 5 columns</p>\n",
              "</div>"
            ],
            "text/plain": [
              "     Edad  Frecsem  ...        conocebeneficios conoceprocedencia\n",
              "6      24        2  ...                      si                si\n",
              "9      21        0  ...  No pero quisiera saber                si\n",
              "10     16        0  ...                      si                si\n",
              "11     20        4  ...                      si                si\n",
              "12     20        2  ...  No pero quisiera saber                si\n",
              "..    ...      ...  ...                     ...               ...\n",
              "104    21        0  ...                      si                si\n",
              "105    21        1  ...                      si                si\n",
              "108    20        4  ...                      si                si\n",
              "110    20        0  ...  No pero quisiera saber                si\n",
              "111    19        2  ...                      si                si\n",
              "\n",
              "[61 rows x 5 columns]"
            ]
          },
          "metadata": {},
          "execution_count": 22
        }
      ]
    },
    {
      "cell_type": "code",
      "metadata": {
        "colab": {
          "base_uri": "https://localhost:8080/",
          "height": 80
        },
        "id": "wJu-VVqtJ2pH",
        "outputId": "7f493d68-e96e-43d7-c84a-c8806c4139ed"
      },
      "source": [
        "#Número de personas a las que no les interesa de dónde provienen sus alimentos\n",
        "#OBSERVAR FRECUENCIA DE CONSUMO\n",
        "dfr[\"conoceprocedencia\"]==\"No y no me interesa\"\n",
        "dfr_noint=dfr[dfr[\"conoceprocedencia\"]==\"No y no me interesa\"]\n",
        "dfr_noint"
      ],
      "execution_count": null,
      "outputs": [
        {
          "output_type": "execute_result",
          "data": {
            "text/html": [
              "<div>\n",
              "<style scoped>\n",
              "    .dataframe tbody tr th:only-of-type {\n",
              "        vertical-align: middle;\n",
              "    }\n",
              "\n",
              "    .dataframe tbody tr th {\n",
              "        vertical-align: top;\n",
              "    }\n",
              "\n",
              "    .dataframe thead th {\n",
              "        text-align: right;\n",
              "    }\n",
              "</style>\n",
              "<table border=\"1\" class=\"dataframe\">\n",
              "  <thead>\n",
              "    <tr style=\"text-align: right;\">\n",
              "      <th></th>\n",
              "      <th>Edad</th>\n",
              "      <th>Frecsem</th>\n",
              "      <th>Presentacion</th>\n",
              "      <th>conocebeneficios</th>\n",
              "      <th>conoceprocedencia</th>\n",
              "    </tr>\n",
              "  </thead>\n",
              "  <tbody>\n",
              "    <tr>\n",
              "      <th>70</th>\n",
              "      <td>19</td>\n",
              "      <td>0</td>\n",
              "      <td>En conserva (latas, salmuera, tipo surimi)</td>\n",
              "      <td>No pero quisiera saber</td>\n",
              "      <td>No y no me interesa</td>\n",
              "    </tr>\n",
              "  </tbody>\n",
              "</table>\n",
              "</div>"
            ],
            "text/plain": [
              "    Edad  Frecsem  ...        conocebeneficios    conoceprocedencia\n",
              "70    19        0  ...  No pero quisiera saber  No y no me interesa\n",
              "\n",
              "[1 rows x 5 columns]"
            ]
          },
          "metadata": {},
          "execution_count": 23
        }
      ]
    },
    {
      "cell_type": "code",
      "metadata": {
        "colab": {
          "base_uri": "https://localhost:8080/"
        },
        "id": "s-uCzXvA3Fo3",
        "outputId": "fe4c64b8-8db2-4755-ecc4-6ebe79e69e23"
      },
      "source": [
        "#Ahora veamos cuánta gente de los consumidores habituales sabe de dónde vienen los productos \n",
        "dfr_consume[\"conoceprocedencia\"]==\"si\"\n",
        "dfr_consumeysabepr=dfr_consume[dfr_consume[\"conoceprocedencia\"]==\"si\"]\n",
        "dfr_consumeysabepr\n",
        "len(dfr_consumeysabepr)"
      ],
      "execution_count": null,
      "outputs": [
        {
          "output_type": "execute_result",
          "data": {
            "text/plain": [
              "46"
            ]
          },
          "metadata": {},
          "execution_count": 11
        }
      ]
    },
    {
      "cell_type": "markdown",
      "metadata": {
        "id": "MnFqrUigJhKd"
      },
      "source": [
        "#Consumo de pescado fresco\n",
        "Por último, se hace el análisis del tipo de consumo de pescado **enfocándonos en los consumidores habituales**, ya que, con lo aprendido en el club, nos dimos cuenta que los mayores beneficios los otorga el pescado fresco. Queremos saber cuánta gente que come pescado frecuentemente (más de 1 vez al mes) se pierde de los beneficios de este alimento. El objetivo es incentivar mucho más su consumo y tener una justificación para hacerlo.\n"
      ]
    },
    {
      "cell_type": "code",
      "metadata": {
        "colab": {
          "base_uri": "https://localhost:8080/"
        },
        "id": "Z-PcluWTKcyv",
        "outputId": "7dc0a2d3-6aa8-4bcc-c4af-9472cd909863"
      },
      "source": [
        "#Personas que consumen pescado fresco\n",
        "dfr_consume[\"Presentacion\"]==\"Pescado fresco\" \n",
        "dfr_fresco = dfr_consume[dfr_consume[\"Presentacion\"]==\"Pescado fresco\"] \n",
        "dfr_fresco\n",
        "len(dfr_fresco)"
      ],
      "execution_count": null,
      "outputs": [
        {
          "output_type": "execute_result",
          "data": {
            "text/plain": [
              "44"
            ]
          },
          "metadata": {},
          "execution_count": 43
        }
      ]
    },
    {
      "cell_type": "code",
      "metadata": {
        "colab": {
          "base_uri": "https://localhost:8080/"
        },
        "id": "75MIICx8pLCh",
        "outputId": "c556db24-476c-4f0f-b331-cab66460d31d"
      },
      "source": [
        "dfr_consume[\"Presentacion\"]==\"Pescado fresco, En conserva (latas, salmuera, tipo surimi)\"\n",
        "dfr_frescoconserva=dfr_consume[dfr_consume[\"Presentacion\"]==\"Pescado fresco, En conserva (latas, salmuera, tipo surimi)\"]\n",
        "dfr_frescoconserva\n",
        "len(dfr_frescoconserva)"
      ],
      "execution_count": null,
      "outputs": [
        {
          "output_type": "execute_result",
          "data": {
            "text/plain": [
              "7"
            ]
          },
          "metadata": {},
          "execution_count": 35
        }
      ]
    },
    {
      "cell_type": "code",
      "metadata": {
        "colab": {
          "base_uri": "https://localhost:8080/"
        },
        "id": "CXOxXLINpdIZ",
        "outputId": "05610c6e-3d92-4265-fe43-4e5919a209f9"
      },
      "source": [
        "dfr_consume[\"Presentacion\"]==\"Pescado fresco, Pescado congelado\"\n",
        "dfr_frescocong=dfr_consume[dfr_consume[\"Presentacion\"]==\"Pescado fresco, Pescado congelado\"]\n",
        "dfr_frescocong\n",
        "len(dfr_frescocong)"
      ],
      "execution_count": null,
      "outputs": [
        {
          "output_type": "execute_result",
          "data": {
            "text/plain": [
              "10"
            ]
          },
          "metadata": {},
          "execution_count": 37
        }
      ]
    },
    {
      "cell_type": "code",
      "metadata": {
        "colab": {
          "base_uri": "https://localhost:8080/"
        },
        "id": "t3RbWnxQtG7s",
        "outputId": "bb45d1ea-83de-4f62-c7ba-3b2131cfd354"
      },
      "source": [
        "dfr_consume[\"Presentacion\"]==\"Pescado fresco, Pescado congelado, En conserva (latas, salmuera, tipo surimi)\"\n",
        "dfr_frescocongcons=dfr_consume[dfr_consume[\"Presentacion\"]==\"Pescado fresco, Pescado congelado, En conserva (latas, salmuera, tipo surimi)\"]\n",
        "dfr_frescocongcons\n",
        "len(dfr_frescocongcons)"
      ],
      "execution_count": null,
      "outputs": [
        {
          "output_type": "execute_result",
          "data": {
            "text/plain": [
              "9"
            ]
          },
          "metadata": {},
          "execution_count": 44
        }
      ]
    },
    {
      "cell_type": "markdown",
      "metadata": {
        "id": "dIyz0W73LToG"
      },
      "source": [
        "#Ahora es tiempo de interpretar lo que obtuvimos\n",
        "Un dato de interés es conocer el rango de edad, planeado para jóvenes y adultos.\n",
        "Los resultados arrojan que **las personas encuestadas son de 15 a 43 años**.\n",
        "El promedio de edad es de 21 años, así que nos encontramos con un grupo bastante joven de personas; casi todas de nuestra edad.\n",
        "\n",
        "El **promedio de consumo es de 2 veces por mes** (1.85), es decir, 1 vez cada 15 días. Lo cual *no está tan mal según lo que aprendimos en el club*, aunque *sí se debe de fomentar, ya que lo ideal es comer 1 vez por semana*.\n",
        "> De igual interés son las **razones** por las cuales no se consume, dichos datos se leyeron en forma personal y se analizaron en una **discusión grupal**; las razones se expondrán en el página web.\n",
        "\n",
        "El número de personas que **sí** conoce los benficios de comer pescado es de: 79. \n",
        "Si se hace la resta, (113-79=34), 34 personas no conocen los beneficios de consumir productos pesqueros. Traducido a pocentaje es el 30% de encuestados que no conoce los beneficios.\n",
        "\n",
        "Los **consumidores habituales** encontrados en una densidad de 113 encuestados es de **86** personas. \n",
        "\n",
        "Dentro de los consumidores habituales se nos hizo de interés conocer cuántos\n",
        "- conocen los beneficios\n",
        "- consumen pescado fresco\n",
        "\n",
        "Tomando el total de 86, vemos que \n",
        "- 63 consumidores habituales conocen los beneficios (73.3%)\n",
        "- 70 consumidores habituales consumen pescado fresco (81.4%)\n",
        "\n",
        "Otro punto a analizar fue el conocimiento de la procedencia de los alimentos pesqueros. Este se hizo tanto con el público en general de la encuesta como con los consumidores habituales debido a que\n",
        "- las personas debemos de saber de dónde provienen los alimentos, independientemente de si los consumimos o no, para poder orientar a nuestros familiares o amigos acerca de las mejores opciones de consumo y poder llegar a hacer conciencia colectiva\n",
        "- con los consumidores, es un tanto obvio, el poder **elegir bien** qué cosa compramos y qué tipo de comercio y producción estamos propiciando (aunque claro, la responsabilidad de que haya sobrepesca no recae en una sola persona o un sólo grupo, es algo mucho más complejo, pero podemos empezar por acá)\n",
        "\n",
        "Los resultados fueron:\n",
        "- Sólo 61 *personas encuestadas* conocen de dónde provienen los alimentos (53%)\n",
        "- 46 *consumidores habituales* conocen la procedencia (53%)\n",
        "\n",
        "Cuando estábamos dándole una ojeada a los resultados, nos sorprendió ver que habían contestado \"no y no me interesa\" en la parte de \"procedencia\", así que decidimos analizar la postura de esa persona (más que nada para saber cómo poder hacer que sí le interesara) y nos dimos cuenta de que su consumo es 0 (no consume) así que no nos alarmó tanto la respuesta, ya que es algo que puede intuirse.\n",
        "\n",
        "\n",
        "\n"
      ]
    },
    {
      "cell_type": "code",
      "metadata": {
        "colab": {
          "base_uri": "https://localhost:8080/",
          "height": 282
        },
        "id": "C_tVVo4e4vU5",
        "outputId": "6b91bba8-5485-428f-a769-b3a126640eb3"
      },
      "source": [
        "serie_edad=dfr.Edad.value_counts()\n",
        "serie_edad=serie_edad.sort_index(ascending=True)\n",
        "serie_edad.plot.barh()\n"
      ],
      "execution_count": null,
      "outputs": [
        {
          "output_type": "execute_result",
          "data": {
            "text/plain": [
              "<matplotlib.axes._subplots.AxesSubplot at 0x7f2b16904850>"
            ]
          },
          "metadata": {},
          "execution_count": 67
        },
        {
          "output_type": "display_data",
          "data": {
            "image/png": "[encoded data removed]",
            "text/plain": [
              "<Figure size 432x288 with 1 Axes>"
            ]
          },
          "metadata": {
            "needs_background": "light"
          }
        }
      ]
    },
    {
      "cell_type": "code",
      "metadata": {
        "colab": {
          "base_uri": "https://localhost:8080/",
          "height": 282
        },
        "id": "5UWO9AXoArss",
        "outputId": "905e85a1-118b-4e83-f5e4-c975a61673d9"
      },
      "source": [
        "serie_consumepres = dfr_consume.Presentacion.value_counts()\n",
        "serie_consumepres.plot.barh()"
      ],
      "execution_count": null,
      "outputs": [
        {
          "output_type": "execute_result",
          "data": {
            "text/plain": [
              "<matplotlib.axes._subplots.AxesSubplot at 0x7fa2d629c9d0>"
            ]
          },
          "metadata": {},
          "execution_count": 45
        },
        {
          "output_type": "display_data",
          "data": {
            "image/png": "[encoded data removed]",
            "text/plain": [
              "<Figure size 432x288 with 1 Axes>"
            ]
          },
          "metadata": {
            "needs_background": "light"
          }
        }
      ]
    },
    {
      "cell_type": "code",
      "metadata": {
        "colab": {
          "base_uri": "https://localhost:8080/",
          "height": 265
        },
        "id": "WfYo-zjNIO5L",
        "outputId": "427b3b4f-92fc-48c9-c06d-e34a009bcec5"
      },
      "source": [
        "serie_consumepres = dfr_consume.Presentacion.value_counts()\n",
        "serie_consumepres.plot.pie()"
      ],
      "execution_count": null,
      "outputs": [
        {
          "output_type": "execute_result",
          "data": {
            "text/plain": [
              "<matplotlib.axes._subplots.AxesSubplot at 0x7fa2d616d4d0>"
            ]
          },
          "metadata": {},
          "execution_count": 46
        },
        {
          "output_type": "display_data",
          "data": {
            "image/png": "[encoded data removed]",
            "text/plain": [
              "<Figure size 432x288 with 1 Axes>"
            ]
          },
          "metadata": {}
        }
      ]
    },
    {
      "cell_type": "code",
      "metadata": {
        "colab": {
          "base_uri": "https://localhost:8080/",
          "height": 265
        },
        "id": "4P0eZIekByor",
        "outputId": "113de427-720c-46a7-d194-a42a799a2ca0"
      },
      "source": [
        "import matplotlib.pyplot as plt\n",
        "#Con esta gráfica podemos ver el interés de las personas\n",
        "pastelbenef=dfr.conocebeneficios.value_counts()\n",
        "pastelbenef.plot.pie(autopct='%1.1f%%')"
      ],
      "execution_count": null,
      "outputs": [
        {
          "output_type": "execute_result",
          "data": {
            "text/plain": [
              "<matplotlib.axes._subplots.AxesSubplot at 0x7f2b1705cf90>"
            ]
          },
          "metadata": {},
          "execution_count": 54
        },
        {
          "output_type": "display_data",
          "data": {
            "image/png": "[encoded data removed]",
            "text/plain": [
              "<Figure size 432x288 with 1 Axes>"
            ]
          },
          "metadata": {}
        }
      ]
    },
    {
      "cell_type": "markdown",
      "metadata": {
        "id": "EbQ4Hw-q0_rM"
      },
      "source": [
        "#Conclusiones\n",
        "Con todos estos datos recolectados"
      ]
    },
    {
      "cell_type": "markdown",
      "metadata": {
        "id": "JZAjP04HH7_K"
      },
      "source": [
        "*Coded by Sphynx666*"
      ]
    }
  ]
}